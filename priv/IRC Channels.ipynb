{
 "cells": [
  {
   "cell_type": "markdown",
   "metadata": {},
   "source": [
    "# IRC Information: \n",
    "\n",
    "**NICK : **: mzee1000\n",
    "\n",
    "## Freenode: \n",
    "\n",
    " 1. #ansible\n",
    " 2. #atomic\n",
    " 3. #celery\n",
    " 4. #centos\n",
    " 5. #centos-devel\n",
    " 6. #centos-meeting\n",
    " 7. #dgplug\n",
    " 8. #docker\n",
    " 9. #docker-distribution\n",
    " 10. #fedora\n",
    " 11. #fedora-devel\n",
    " 12. #fedora-india\n",
    " 13. #fedora-meeting-1\n",
    " 14. #nulecule\n",
    " 15. #openshift\n",
    " 16. #openshift-dev\n",
    " 17. #pulp\n",
    " 18. #pyconindia\n",
    "\n",
    "## Redhat:\n",
    "\n",
    " 1. #ase-devtools\n",
    " 2. #bangalore\n",
    " 3. #cdk\n",
    " 4. #cdk-lunch\n",
    " 5. #centos\n",
    " 6. #devtools\n",
    " 7. #dockerbuildservice\n",
    " 8. #eng-india\n",
    " 9. #india\n",
    " 10. #openshift\n",
    " 11. #osas\n",
    " 12. #osas-staff\n",
    " 13. #osbs\n",
    " 14. #pulp\n"
   ]
  }
 ],
 "metadata": {
  "kernelspec": {
   "display_name": "Python 3",
   "language": "python",
   "name": "python3"
  },
  "language_info": {
   "codemirror_mode": {
    "name": "ipython",
    "version": 3
   },
   "file_extension": ".py",
   "mimetype": "text/x-python",
   "name": "python",
   "nbconvert_exporter": "python",
   "pygments_lexer": "ipython3",
   "version": "3.5.1"
  }
 },
 "nbformat": 4,
 "nbformat_minor": 0
}
